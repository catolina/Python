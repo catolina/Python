{
 "cells": [
  {
   "cell_type": "code",
   "execution_count": null,
   "metadata": {},
   "outputs": [],
   "source": [
    "import pandas as pd\n",
    "import numpy as np\n",
    "import matplotlib.pyplot as plt\n",
    "import matplotlib\n",
    "import seaborn as sns\n",
    "%matplotlib inline\n",
    "%pylab inline"
   ]
  },
  {
   "cell_type": "code",
   "execution_count": null,
   "metadata": {},
   "outputs": [],
   "source": [
    "dfs=pd.read_excel('zadanie_dodatkowe_DS.xlsx')"
   ]
  },
  {
   "cell_type": "markdown",
   "metadata": {},
   "source": [
    "*****\n",
    "Usuwanie wierszy z brakującymi danymi"
   ]
  },
  {
   "cell_type": "code",
   "execution_count": null,
   "metadata": {},
   "outputs": [],
   "source": [
    "dfs=dfs.dropna()"
   ]
  },
  {
   "cell_type": "markdown",
   "metadata": {},
   "source": [
    "*****\n",
    "Podstawowe statystyki ldla osób zarabiających powyżej średniej krajowej"
   ]
  },
  {
   "cell_type": "code",
   "execution_count": null,
   "metadata": {},
   "outputs": [],
   "source": [
    "sr_krajowa_brutto_2018=4852"
   ]
  },
  {
   "cell_type": "code",
   "execution_count": null,
   "metadata": {},
   "outputs": [],
   "source": [
    "dfs_sr=dfs[dfs.Wypłata>=sr_krajowa_brutto_2018]"
   ]
  },
  {
   "cell_type": "code",
   "execution_count": null,
   "metadata": {},
   "outputs": [],
   "source": [
    "dfs_sr.describe()"
   ]
  },
  {
   "cell_type": "markdown",
   "metadata": {},
   "source": [
    "*****\n",
    "Czy wśród 25% pracowników najbardziej wydajnych jest więcej kobiet (1) czy mężczyzn (0)?"
   ]
  },
  {
   "cell_type": "code",
   "execution_count": null,
   "metadata": {},
   "outputs": [],
   "source": [
    "dfs_wydajność=dfs.sort_values(by=['Wydajność'], ascending=False)"
   ]
  },
  {
   "cell_type": "code",
   "execution_count": null,
   "metadata": {},
   "outputs": [],
   "source": [
    "row, col=dfs.shape\n",
    "n=int(ceil(row/4))"
   ]
  },
  {
   "cell_type": "code",
   "execution_count": null,
   "metadata": {},
   "outputs": [],
   "source": [
    "dfs_wydajność=dfs_wydajność.reset_index()"
   ]
  },
  {
   "cell_type": "code",
   "execution_count": null,
   "metadata": {},
   "outputs": [],
   "source": [
    "dfs_wydajność=dfs_wydajność[dfs_wydajność.index<4]"
   ]
  },
  {
   "cell_type": "code",
   "execution_count": null,
   "metadata": {},
   "outputs": [],
   "source": [
    "wydajność=dfs_wydajność.apply(lambda x: True if x['Płeć']>0 else False, axis=1)"
   ]
  },
  {
   "cell_type": "code",
   "execution_count": null,
   "metadata": {},
   "outputs": [],
   "source": [
    "kobiety_wydajność=len(wydajność[wydajność==True].index)\n",
    "faceci_wydajność=abs(n-kobiety_wydajność)"
   ]
  },
  {
   "cell_type": "code",
   "execution_count": null,
   "metadata": {},
   "outputs": [],
   "source": [
    "print('W 25% najwydajniejszych pracowników jest: kobiet - {} i mężczyzn - {}'.format(kobiety_wydajność, faceci_wydajność))"
   ]
  },
  {
   "cell_type": "markdown",
   "metadata": {},
   "source": [
    "*****\n",
    "Ile kobiet zarabia powyżej a ile poniżej średniej?"
   ]
  },
  {
   "cell_type": "code",
   "execution_count": null,
   "metadata": {},
   "outputs": [],
   "source": [
    "kobiety_pow=dfs.apply(lambda x: True if x['Płeć']>0 and x['Wypłata']> sr_krajowa_brutto_2018 else False, axis=1)"
   ]
  },
  {
   "cell_type": "code",
   "execution_count": null,
   "metadata": {},
   "outputs": [],
   "source": [
    "numRows_pow=len(kobiety_pow[kobiety_pow==True].index)"
   ]
  },
  {
   "cell_type": "code",
   "execution_count": null,
   "metadata": {},
   "outputs": [],
   "source": [
    "print('Liczba kobiet zarabiających powyżej średniej krajowej równej {} zł to {}'.format(sr_krajowa_brutto_2018, numRows_pow))"
   ]
  },
  {
   "cell_type": "code",
   "execution_count": null,
   "metadata": {},
   "outputs": [],
   "source": [
    "kobiety_pon=dfs.apply(lambda x: True if x['Płeć']>0 and x['Wypłata']<sr_krajowa_brutto_2018 else False, axis=1)"
   ]
  },
  {
   "cell_type": "code",
   "execution_count": null,
   "metadata": {},
   "outputs": [],
   "source": [
    "numRows_pon=len(kobiety_pon[kobiety_pon==True].index)"
   ]
  },
  {
   "cell_type": "code",
   "execution_count": null,
   "metadata": {},
   "outputs": [],
   "source": [
    "print('Liczba kobiet zarabiających poniżej średniej krajowej równej {} zł to {}'.format(sr_krajowa_brutto_2018, numRows_pon))"
   ]
  },
  {
   "cell_type": "markdown",
   "metadata": {},
   "source": [
    "*****\n",
    "Średnia i odchylenie standardowe wieku"
   ]
  },
  {
   "cell_type": "code",
   "execution_count": null,
   "metadata": {},
   "outputs": [],
   "source": [
    "sr_wieku=dfs.Wiek.mean()"
   ]
  },
  {
   "cell_type": "code",
   "execution_count": null,
   "metadata": {},
   "outputs": [],
   "source": [
    "sr_wieku"
   ]
  },
  {
   "cell_type": "code",
   "execution_count": null,
   "metadata": {},
   "outputs": [],
   "source": [
    "std_wiek=dfs.Wiek.std()"
   ]
  },
  {
   "cell_type": "code",
   "execution_count": null,
   "metadata": {},
   "outputs": [],
   "source": [
    "round(std_wiek,2)"
   ]
  },
  {
   "cell_type": "markdown",
   "metadata": {},
   "source": [
    "*****\n",
    "Histogram wieku"
   ]
  },
  {
   "cell_type": "code",
   "execution_count": null,
   "metadata": {},
   "outputs": [],
   "source": [
    "bins=max(dfs.Wiek)-min(dfs.Wiek)"
   ]
  },
  {
   "cell_type": "code",
   "execution_count": null,
   "metadata": {},
   "outputs": [],
   "source": [
    "dfs.Wiek.plot.hist(bins=bins)"
   ]
  },
  {
   "cell_type": "markdown",
   "metadata": {},
   "source": [
    "*****\n",
    "Histogram wypłat"
   ]
  },
  {
   "cell_type": "code",
   "execution_count": null,
   "metadata": {},
   "outputs": [],
   "source": [
    "dfs.Wypłata.plot.hist(bins=20)"
   ]
  },
  {
   "cell_type": "markdown",
   "metadata": {},
   "source": [
    "*****\n",
    "Czy osoby zatrudnione w pierwszym kwartale znacznie się różnią od tych zatrudnionych w drugim?"
   ]
  },
  {
   "cell_type": "code",
   "execution_count": null,
   "metadata": {},
   "outputs": [],
   "source": [
    "pierwszy_kawrtał=dfs[dfs.Zatrudniony_w_miesiacu<=3]"
   ]
  },
  {
   "cell_type": "code",
   "execution_count": null,
   "metadata": {},
   "outputs": [],
   "source": [
    "drugi_kwartał=dfs[dfs.Zatrudniony_w_miesiacu>3]\n",
    "drugi_kwartał=drugi_kwartał[drugi_kwartał.Zatrudniony_w_miesiacu<=6]"
   ]
  },
  {
   "cell_type": "code",
   "execution_count": null,
   "metadata": {},
   "outputs": [],
   "source": [
    "jeden=pierwszy_kawrtał.describe()"
   ]
  },
  {
   "cell_type": "code",
   "execution_count": null,
   "metadata": {},
   "outputs": [],
   "source": [
    "dwa=drugi_kwartał.describe()"
   ]
  },
  {
   "cell_type": "code",
   "execution_count": null,
   "metadata": {},
   "outputs": [],
   "source": [
    "kwartały=pd.concat([jeden, dwa])\n",
    "kwartały"
   ]
  },
  {
   "cell_type": "code",
   "execution_count": null,
   "metadata": {},
   "outputs": [],
   "source": [
    "różnica1_2=jeden-dwa\n",
    "różnica1_2"
   ]
  },
  {
   "cell_type": "markdown",
   "metadata": {},
   "source": [
    "Z prównania podstawowych statystyk widzimy, że:\n",
    "- w pierwszym kwartale zostało zatrudnione o 2 osoby mniej niż w drugim, (piwerszy kwartał - 3 osoby, drugi - 5)\n",
    "- średnia wydajność pracwników zatrudnionych w pierwszym kwartale była większa o 22.5% niż wydajność zartudnionych w drugim kwartale (wydajność osob z pierwszego kwartału wahała się między 40% a 100%, a drugiego 15% a 70%)\n",
    "- średni wiek osób zadrudnionych w pierwszym kwartale był prawie 19 lat większy niż osób zatrudnionych w drugim (wiek osób zatrudnionych w pierszym kwartale wahał się między 34 a 56 lat, a w drugim między 21 a 43 lat)\n",
    "- średnia wypłata osób zatrudnionych w pierwszym kwartale jest o 2221.33 zł mniejsza od średniej wypłaty osób z drugiego kwartału (wypłaty osób z pierwszego kwartału wahają się między 1900 a 6700 zł, a w drugim 2340 a 11500 zł)\n",
    "- w pierwszym kwartale zatrudniono 2 kobiety i jednego mężczyznę, a w drugim jedną kobietę i 4 mężczyzn"
   ]
  },
  {
   "cell_type": "markdown",
   "metadata": {},
   "source": [
    "****\n",
    "Czy istnieje relacja pomiędzy stanem cywilnym a wydajnością?"
   ]
  },
  {
   "cell_type": "code",
   "execution_count": null,
   "metadata": {},
   "outputs": [],
   "source": [
    "dfs.corrwith(dfs.Wydajność, method='pearson')"
   ]
  },
  {
   "cell_type": "markdown",
   "metadata": {},
   "source": [
    "Korelacja Pearsona między Wydajnością a Stanem cywilnym daje wynik 0.09, czyli bardzo blisko zera co sugeruje nam, że między tymi dwiema zmiennymi nie istnieje zależność."
   ]
  },
  {
   "cell_type": "markdown",
   "metadata": {},
   "source": [
    "*****\n",
    "Czy istnieje relacja między wiekiem a wypłatą?"
   ]
  },
  {
   "cell_type": "code",
   "execution_count": null,
   "metadata": {},
   "outputs": [],
   "source": [
    "dfs.corrwith(dfs.Wiek, method='pearson')"
   ]
  },
  {
   "cell_type": "markdown",
   "metadata": {},
   "source": [
    "Korelacja Pearsona między Wiekiem a Wypłatą daje wynik 0.01, czyli bardzo blisko zera co sugeruje nam, że między tymi dwiema zmiennymi nie istnieje zależność."
   ]
  },
  {
   "cell_type": "markdown",
   "metadata": {},
   "source": [
    "******\n",
    "Narysuj wykres zaleznosci wieku od wynagrodzenia"
   ]
  },
  {
   "cell_type": "code",
   "execution_count": null,
   "metadata": {},
   "outputs": [],
   "source": [
    "matplotlib.style.use('ggplot')\n",
    "plt.scatter(dfs.Wiek, dfs.Wypłata)\n",
    "plt.show()"
   ]
  },
  {
   "cell_type": "markdown",
   "metadata": {},
   "source": [
    "Wykres ten potwierdza brak relacji pomiędzy wiekiem a wypłatą."
   ]
  },
  {
   "cell_type": "markdown",
   "metadata": {},
   "source": [
    "*****\n",
    "Dodatkowo heatmapa korelacji z któej też łatwo odczytać wszytsko co powyżej"
   ]
  },
  {
   "cell_type": "code",
   "execution_count": null,
   "metadata": {},
   "outputs": [],
   "source": [
    "plt.figure(figsize=(20,10))\n",
    "sns.heatmap(dfs.corr(), annot=True, cmap=\"coolwarm\")\n",
    "plt.show()"
   ]
  }
 ],
 "metadata": {
  "kernelspec": {
   "display_name": "Python 3",
   "language": "python",
   "name": "python3"
  },
  "language_info": {
   "codemirror_mode": {
    "name": "ipython",
    "version": 3
   },
   "file_extension": ".py",
   "mimetype": "text/x-python",
   "name": "python",
   "nbconvert_exporter": "python",
   "pygments_lexer": "ipython3",
   "version": "3.6.8"
  },
  "toc": {
   "base_numbering": 1,
   "nav_menu": {},
   "number_sections": true,
   "sideBar": true,
   "skip_h1_title": false,
   "title_cell": "Table of Contents",
   "title_sidebar": "Contents",
   "toc_cell": false,
   "toc_position": {},
   "toc_section_display": true,
   "toc_window_display": false
  }
 },
 "nbformat": 4,
 "nbformat_minor": 2
}
