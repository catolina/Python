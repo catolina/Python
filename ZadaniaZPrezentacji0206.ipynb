{
 "cells": [
  {
   "cell_type": "code",
   "execution_count": 1,
   "metadata": {},
   "outputs": [
    {
     "data": {
      "text/plain": [
       "23"
      ]
     },
     "execution_count": 1,
     "metadata": {},
     "output_type": "execute_result"
    }
   ],
   "source": [
    "x='Ala ma kota, kot ma Ale'\n",
    "len(x)"
   ]
  },
  {
   "cell_type": "code",
   "execution_count": 3,
   "metadata": {},
   "outputs": [
    {
     "data": {
      "text/plain": [
       "('kot', 23.67, 13)"
      ]
     },
     "execution_count": 3,
     "metadata": {},
     "output_type": "execute_result"
    }
   ],
   "source": [
    "y=('kot', 23.67, 13)\n",
    "y"
   ]
  },
  {
   "cell_type": "code",
   "execution_count": 4,
   "metadata": {},
   "outputs": [
    {
     "data": {
      "text/plain": [
       "['kot', 23.67, 13]"
      ]
     },
     "execution_count": 4,
     "metadata": {},
     "output_type": "execute_result"
    }
   ],
   "source": [
    "z=['kot', 23.67, 13]\n",
    "z"
   ]
  },
  {
   "cell_type": "code",
   "execution_count": 5,
   "metadata": {},
   "outputs": [
    {
     "data": {
      "text/plain": [
       "{'Alek': 197, 'Jaś': 200, 'Karolina': 175, 'Tomasz': 187}"
      ]
     },
     "execution_count": 5,
     "metadata": {},
     "output_type": "execute_result"
    }
   ],
   "source": [
    "wzrost={'Alek':197,'Jaś':200, 'Karolina':175, 'Tomasz':187}\n",
    "wzrost"
   ]
  },
  {
   "cell_type": "code",
   "execution_count": 34,
   "metadata": {},
   "outputs": [
    {
     "name": "stdout",
     "output_type": "stream",
     "text": [
      "Drugi najwięszky element z listy to: 73\n"
     ]
    }
   ],
   "source": [
    "lista=[10, 100, 5, 17, 35, 48, 73, 15, 12]\n",
    "lista1=[10, 100, 5, 17, 100, 100, 35, 48, 73, 15, 12]\n",
    "\n",
    "lista.sort(reverse=True)\n",
    "for i in range(len(lista)):\n",
    "    if lista[i]!=lista[i+1]:\n",
    "        print(\"Drugi najwięszky element z listy to: {}\".format(lista[i+1]))\n",
    "        break"
   ]
  },
  {
   "cell_type": "code",
   "execution_count": 40,
   "metadata": {},
   "outputs": [
    {
     "name": "stdout",
     "output_type": "stream",
     "text": [
      "Pierwsza litera k znajduje się na miejscu: 7\n",
      "Ostatnie słowo w tekście: Mruczek jest niegrzecznym kotem, to: kotem\n"
     ]
    }
   ],
   "source": [
    "tekst=\"Mruczek jest niegrzecznym kotem\"\n",
    "#a\n",
    "a=tekst.index(\"k\")\n",
    "print(\"Pierwsza litera k znajduje się na miejscu: {}\".format(a+1))\n",
    "#b\n",
    "tekst_slowa=tekst.split(\" \")\n",
    "print(\"Ostatnie słowo w tekście: {}, to: {}\".format(tekst, tekst_slowa[-1]))"
   ]
  }
 ],
 "metadata": {
  "kernelspec": {
   "display_name": "Python 3",
   "language": "python",
   "name": "python3"
  },
  "language_info": {
   "codemirror_mode": {
    "name": "ipython",
    "version": 3
   },
   "file_extension": ".py",
   "mimetype": "text/x-python",
   "name": "python",
   "nbconvert_exporter": "python",
   "pygments_lexer": "ipython3",
   "version": "3.6.5"
  }
 },
 "nbformat": 4,
 "nbformat_minor": 2
}
