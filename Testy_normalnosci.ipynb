{
 "cells": [
  {
   "cell_type": "code",
   "execution_count": 34,
   "metadata": {},
   "outputs": [],
   "source": [
    "import numpy as np\n",
    "import seaborn as sns\n",
    "import scipy.stats as ss\n",
    "import matplotlib.pyplot as plt\n",
    "import plotly.graph_objs as go\n",
    "from plotly.tools import FigureFactory as FF\n",
    "import plotly.plotly as py\n",
    "import plotly"
   ]
  },
  {
   "cell_type": "code",
   "execution_count": 3,
   "metadata": {},
   "outputs": [],
   "source": [
    "def Box_Muller(n):\n",
    "    '''\n",
    "    Funkcja generująca dane metodą Boxa-Mullera\n",
    "    '''\n",
    "    import numpy as np\n",
    "    u1=np.random.random(int(n))\n",
    "    u2=np.random.random(int(n))\n",
    "    r=np.sqrt(-2*np.log(u1))\n",
    "    theta=2*np.pi*u2\n",
    "    x=r*np.cos(theta)\n",
    "    y=r*np.sin(theta)\n",
    "    return x,y"
   ]
  },
  {
   "cell_type": "code",
   "execution_count": 56,
   "metadata": {},
   "outputs": [],
   "source": [
    "def LCG(n):\n",
    "    '''\n",
    "    Funkcja generująca dane za pomocą liniowego generatora kongruentnego\n",
    "    '''\n",
    "    import random\n",
    "    a=5**5\n",
    "    c=0\n",
    "    m=(2**35)-31\n",
    "    seed=[random.randint(1,101)]*int(n)\n",
    "    for i in range(n):\n",
    "        seed[i]=(a*seed[i-1]+c)%m\n",
    "    return seed\n",
    "    "
   ]
  },
  {
   "cell_type": "code",
   "execution_count": 57,
   "metadata": {},
   "outputs": [],
   "source": [
    "def FCG(n):\n",
    "    '''\n",
    "    Funkcja generująca dane za pomocą generatora Fibonacciego\n",
    "    '''\n",
    "    m=2**31\n",
    "    import numpy as np\n",
    "    if n<100:\n",
    "        p=floor(n/2)\n",
    "        q=floor(n/3)\n",
    "        seed=np.random.random(int(n))\n",
    "        for i in range(int(n)):\n",
    "            seed[i]=(seed[i-p]+seed[i-q])%m\n",
    "        return seed\n",
    "    else:\n",
    "        p=55\n",
    "        q=24\n",
    "        seed=np.random.random(int(n))\n",
    "        for i in range(n):\n",
    "            seed[i]=(seed[i-p]+seed[i-q])%m\n",
    "        return seed"
   ]
  },
  {
   "cell_type": "code",
   "execution_count": 37,
   "metadata": {},
   "outputs": [],
   "source": [
    "def von_Neumann(n):\n",
    "    '''\n",
    "    Funkcja generująca dane metodą eliminacji von Neumanna\n",
    "    '''\n",
    "    import numpy as np\n",
    "    from scipy import stats\n",
    "    #print(\"Prosimy o cierpliwość. Funkcja w takcie tworzenia\")\n",
    "    r1=np.random.random(int(n))\n",
    "    r2=np.random.random(int(n))/n\n",
    "    mu, sigma=stats.norm.fit(r1)\n",
    "    norm=np.random.normal(mu, sigma,n)\n",
    "    norm_max=np.max(norm)\n",
    "    x=[]\n",
    "    for i in range(n):\n",
    "        if r2[i]<=(norm[i]/norm_max):\n",
    "            x.append(r1[i])\n",
    "        else:\n",
    "            von_Neumann(n-i)\n",
    "    return x"
   ]
  },
  {
   "cell_type": "code",
   "execution_count": 38,
   "metadata": {},
   "outputs": [],
   "source": [
    "def norm_table(x):\n",
    "    '''\n",
    "    Funkcja zwracająca data frame z wartościami p-value dla testów sprawdzających normalność rozkładu\n",
    "    '''\n",
    "    from scipy import stats \n",
    "    import pandas as pd\n",
    "    #D'Agostino-Pearson\n",
    "    stat_x, p_x_dap=stats.normaltest(x)\n",
    "    #Kołomogorov-Smirnov\n",
    "    D_x, p_x_ks=stats.kstest(x, 'norm')\n",
    "    #Chi^2\n",
    "    chisq_x, p_x_chi=stats.chisquare(x)\n",
    "    #Shapiro-Wilk\n",
    "    W_x, p_x_sh=stats.shapiro(x)\n",
    "            \n",
    "    p_value={\"p-value\":[p_x_dap, p_x_ks, p_x_chi, p_x_sh]}\n",
    "    df=pd.DataFrame(data=p_value, index=[\"D'Agostino-Pearson\", \"Kolmogorov-Smirnov\", \n",
    "                                         \"Chi^2\", \"Shapiro-Wilk\"])\n",
    "    return df"
   ]
  },
  {
   "cell_type": "code",
   "execution_count": 39,
   "metadata": {},
   "outputs": [],
   "source": [
    "def uniform_table(x):\n",
    "    '''\n",
    "    Funkcja zwracająca data frame z wartościami p-value dla testów sprawdzających jednostajność rozkładu\n",
    "    '''\n",
    "    from scipy import stats \n",
    "    import pandas as pd\n",
    "    #Kołomogorov-Smirnov\n",
    "    D_x, p_x_ks=stats.kstest(x, stats.uniform(loc=0.0, scale=100.0).cdf)\n",
    "    #Chi^2\n",
    "    #chisq_x, p_x_chi=stats.chisquare(x,stats.uniform(loc=0.0, scale=100.0).cdf)\n",
    "            \n",
    "    p_value={\"p-value\":[p_x_ks]}\n",
    "    df=pd.DataFrame(data=p_value, index=[\"Kolmogorov-Smirnov-jednorodny\"])\n",
    "    return df"
   ]
  },
  {
   "cell_type": "code",
   "execution_count": 59,
   "metadata": {},
   "outputs": [],
   "source": [
    "def testy_norm(start=100, step=3, stop=0, gen='BM'):\n",
    "    '''\n",
    "    Funkcja stworzona do przeprowadzenia testów normalności na danych wygenerowanych psedudolosowo \n",
    "    przez wybrany generator losowy.\n",
    "    Funkcja przyjmuje:\n",
    "    - gen - string, rodzaj generatora: LCG (liniowy generator kongruentny), FCG (generator Fibonacciego), \n",
    "                        BM (metoda Boxa-Mullera), VN (metoda elimincaji). Domyślnym gereratorem jest metoda Boxa-Mullera\n",
    "    - start - int, początkowa liczba próbek. Domyślna wartość 100.\n",
    "    - stop - int, ilość kroków pomiędzy początkową i końcową liczbą próbek, w jakich chcemy sprawdzić czy dla \n",
    "            rozkładów normalność zależy od ilości próbek. Domyślna wartość 0.\n",
    "    - step - int, końcowa liczba próbek. Domyślna wartość 3.\n",
    "    Fnkcja zwraca:\n",
    "    - df - data frame, wartości p-value dla testów nromalności - Kołomogrova-Smirnova, Lillieforsa, Shapiro-Wilka,\n",
    "        D'Agostino-Persona, Chi^2\n",
    "    - x - lista, wynik stworzone przez generator\n",
    "    '''\n",
    "    from scipy import stats\n",
    "    import pandas as pd\n",
    "    import numpy as np\n",
    "    \n",
    "    gen=gen.lower()\n",
    "    \n",
    "    if step==0:\n",
    "        print('Parametr step nie może być równy 0')\n",
    "        xx=0\n",
    "        df=0\n",
    "    elif stop!=0 and step !=0:\n",
    "        probe=np.linspace(start, stop, step)\n",
    "        if gen=='bm':\n",
    "            df_app=[]\n",
    "            xx=[]\n",
    "            for i in probe:\n",
    "                (x,y)=Box_Muller(i)\n",
    "                xy=[x,y]\n",
    "                df_x=norm_table(x)\n",
    "                df_x=df_x.rename(index=str, columns={'p-value':'p-value_x_{}'.format(i)})\n",
    "                df_y=norm_table(y)\n",
    "                df_y=df_y.rename(index=str, columns={'p-value':'p-value_y_{}'.format(i)})\n",
    "                df_xy=pd.concat([df_x, df_y], axis=1)\n",
    "                df_xj=uniform_table(x)\n",
    "                df_xj=df_xj.rename(index=str, columns={'p-value':'p-value_x_{}'.format(i)})\n",
    "                df_yj=uniform_table(y)\n",
    "                df_yj=df_yj.rename(index=str, columns={'p-value':'p-value_y_{}'.format(i)})\n",
    "                df_xyj=pd.concat([df_xj, df_yj],axis=1)\n",
    "                df_xy=pd.concat([df_xy,df_xyj])\n",
    "                df_app.append(df_xy)\n",
    "                xx.append(xy)\n",
    "            df=pd.concat(df_app, axis=1, sort=False)\n",
    "        elif gen=='lcg':\n",
    "            df_app=[]\n",
    "            xx=[]\n",
    "            for i in probe:\n",
    "                x=LCG(start)\n",
    "                df_x=norm_table(x)\n",
    "                df_x=df_x.rename(index=str, columns={'p-value':'p-value_{}'.format(i)})\n",
    "                df_xj=uniform_table(x)\n",
    "                df_xj=df_xj.rename(index=str, columns={'p-value':'p-value_{}'.format(i)})\n",
    "                df_x=pd.concat([df_x, df_xj])\n",
    "                df_app.append(df_x)\n",
    "                xx.append(x)\n",
    "            df=pd.concat(df_app, axis=1)\n",
    "        elif gen=='fcg':\n",
    "            df_app=[]\n",
    "            xx=[]\n",
    "            for i in probe:\n",
    "                x=FCG(start)\n",
    "                df_x=norm_table(x)\n",
    "                df_x=df_x.rename(index=str, columns={'p-value':'p-value_{}'.format(i)})\n",
    "                df_xj=uniform_table(x)\n",
    "                df_xj=df_xj.rename(index=str, columns={'p-value':'p-value_{}'.format(i)})\n",
    "                df_x=pd.concat([df_x, df_xj])\n",
    "                df_app.append(df_x)\n",
    "                xx.append(x)\n",
    "            df=pd.concat(df_app, axis=1)\n",
    "        elif gen=='vn':\n",
    "            df_app=[]\n",
    "            xx=[]\n",
    "            for i in probe:\n",
    "                x=von_Neumann(start)\n",
    "                df_x=norm_table(x)\n",
    "                df_x=df_x.rename(index=str, columns={'p-value':'p-value_{}'.format(i)})\n",
    "                df_xj=uniform_table(x)\n",
    "                df_xj=df_xj.rename(index=str, columns={'p-value':'p-value_{}'.format(i)})\n",
    "                df_x=pd.concat([df_x, df_xj])\n",
    "                df_app.append(df_x)\n",
    "                xx.append(x)\n",
    "            df=pd.concat(df_app, axis=1)\n",
    "        \n",
    "    else:\n",
    "        if gen=='bm':\n",
    "            (x,y)=Box_Muller(start)\n",
    "            xx=[x,y]\n",
    "            df_x=norm_table(x)\n",
    "            df_x=df_x.rename(index=str, columns={'p-value':'p-value_x'})\n",
    "            df_y=norm_table(y)\n",
    "            df_y=df_y.rename(index=str, columns={'p-value':'p-value_y'})\n",
    "            df_xj=uniform_table(x)\n",
    "            df_xj=df_xj.rename(index=str, columns={'p-value':'p-value_x'})\n",
    "            df_yj=uniform_table(y)\n",
    "            df_yj=df_yj.rename(index=str, columns={'p-value':'p-value_y'})\n",
    "            df_xyj=pd.concat([df_xj, df_yj],axis=1)\n",
    "            df_xy=pd.concat([df_x, df_y], axis=1)\n",
    "            df=pd.concat([d_xy, df_xyj])\n",
    "        elif gen=='lcg':\n",
    "            x=LCG(start)\n",
    "            xx=x\n",
    "            df=norm_table(x)\n",
    "            dfu=uniform_table(x)\n",
    "            df=pd.concat([df,dfu])\n",
    "        elif gen=='fcg':\n",
    "            x=FCG(start)\n",
    "            xx=x\n",
    "            df=norm_table(x)\n",
    "            dfu=uniform_table(x)\n",
    "            df=pd.concat([df, dfu])\n",
    "        elif gen=='vn':\n",
    "            x=von_Neumann(start)\n",
    "            xx=x\n",
    "            df=norm_table(x)\n",
    "            dfu=uniform_table(x)\n",
    "            df=pd.concat([df,dfu])\n",
    "    return xx, df"
   ]
  },
  {
   "cell_type": "code",
   "execution_count": 60,
   "metadata": {},
   "outputs": [],
   "source": [
    "def wykres_hist(X):\n",
    "    '''\n",
    "    Funkcja rysująca histogram z wygenerowanych danych wraz z dopasowaniem rozkładu normalnego.\n",
    "    Dla generatora bm dane wgrywamy pojedynczo, np. jako x[0] albo x[1]\n",
    "    '''\n",
    "    import matplotlib.pyplot as plt\n",
    "    from scipy import stats\n",
    "    mu, sigma = stats.norm.fit(x)\n",
    "    count, bins, ignored = plt.hist(x, 30, density=True)\n",
    "    plt.plot(bins, 1/(sigma * np.sqrt(2 * np.pi)) * np.exp( - (bins - mu)**2 / (2 * sigma**2) ), linewidth=2, color='r')\n",
    "    plt.title(\"Histogram rozkładu z dopasowaniem rozkładu normalego\")\n",
    "\n",
    "    return plt.show()"
   ]
  },
  {
   "cell_type": "code",
   "execution_count": 61,
   "metadata": {},
   "outputs": [],
   "source": [
    "def wykres_ecdf(x):\n",
    "    '''\n",
    "    Funkcja rysująca estymatory dystybuanty i gęstości z wygenerowanych danych porównujących je z dystrybuantą i gęstością\n",
    "    rozkładu normalego dopasowanego do wygenerowanego rozkładu.\n",
    "    Dla generatora bm dane wgrywamy pojedynczo, np. jako x[0] albo x[1]\n",
    "    '''\n",
    "    import numpy as np\n",
    "    from scipy import stats\n",
    "    from statsmodels.distributions.empirical_distribution import ECDF\n",
    "    import matplotlib.pyplot as plt \n",
    "    import seaborn as sns\n",
    "    \n",
    "    m, s=stats.norm.fit(x)\n",
    "    norm=np.random.normal(m, s,len(x))\n",
    "    ecdf=ECDF(norm)\n",
    "    \n",
    "    plt.subplot(121)\n",
    "    ecdf_x=sorted(ecdf.x)\n",
    "    min_x=ecdf_x[1]\n",
    "    max_x=max(ecdf.x)\n",
    "    plt.step(ecdf.x, ecdf.y, 'k-')\n",
    "    \n",
    "    t1=np.linspace(min_x, max_x, 100)\n",
    "    t2=stats.norm.cdf(t1, loc=m, scale=s)\n",
    "    t3=stats.norm.pdf(t1, loc=m, scale=s)\n",
    "    plt.plot(t1, t2, \"b--\")\n",
    "    \n",
    "    plt.subplot(122)\n",
    "    plt.title(\"Wykresy estymatorów rozkładu w porównaniu z rokładem normalnym\")\n",
    "    sns.distplot(x, bins=30, color=\"k\")\n",
    "    plt.plot(t1,t3, \"b--\")\n",
    "    return plt.show()"
   ]
  },
  {
   "cell_type": "code",
   "execution_count": 62,
   "metadata": {},
   "outputs": [],
   "source": [
    "def wykres_Q(x):\n",
    "    '''\n",
    "    Funkcja rysująca wykres kwantylowy dla wygenerowanych danych\n",
    "    '''\n",
    "    import matplotlib.pyplot as plt \n",
    "    from scipy import stats\n",
    "    \n",
    "    stats.probplot(x, dist=stats.norm, plot=plt)\n",
    "    plt.title(\"Wykres kwantylowy\")\n",
    "    \n",
    "    return plt.show()"
   ]
  },
  {
   "cell_type": "code",
   "execution_count": 63,
   "metadata": {},
   "outputs": [],
   "source": [
    "def wykresy(x):\n",
    "    '''\n",
    "    Funkcja zbierająca wszystkie powyższe wykresy (histogram, dystrybuanę i gęstość oraz wykres kwantylowy) w jeden subplot\n",
    "    '''\n",
    "    import matplotlib.pyplot as plt \n",
    "    from scipy import stats\n",
    "    import matplotlib.gridspec as gridspec\n",
    "    \n",
    "    fig=plt.figure(figsize=(7, 15))\n",
    "    gs = gridspec.GridSpec(nrows=3, ncols=1, height_ratios=[1, 1, 2])\n",
    "    ax0=fig.add_subplot(gs[0,:])\n",
    "    wykres_hist(x)\n",
    "    \n",
    "    ax1=fig.add_subplot(gs[1,:])\n",
    "    wykres_ecdf(x)\n",
    "    \n",
    "    ax2=fig.add_subplot(gs[2,:])\n",
    "    wykres_Q(x)\n",
    "    \n",
    "    plt.tight_layout()\n",
    "    return plt.show()"
   ]
  },
  {
   "cell_type": "code",
   "execution_count": 69,
   "metadata": {},
   "outputs": [],
   "source": [
    "#Generator rozkładu,\n",
    "#Do wyboru: gen= 'fcg'|'lcg'|'bm'|'vn', start=(int), stop=(int), step=(int)\n",
    "#więcej informacji po wpisaniu: help(testy_norm)\n",
    "(x, df) = testy_norm(gen='vn')"
   ]
  },
  {
   "cell_type": "code",
   "execution_count": 70,
   "metadata": {},
   "outputs": [
    {
     "data": {
      "text/html": [
       "<div>\n",
       "<style scoped>\n",
       "    .dataframe tbody tr th:only-of-type {\n",
       "        vertical-align: middle;\n",
       "    }\n",
       "\n",
       "    .dataframe tbody tr th {\n",
       "        vertical-align: top;\n",
       "    }\n",
       "\n",
       "    .dataframe thead th {\n",
       "        text-align: right;\n",
       "    }\n",
       "</style>\n",
       "<table border=\"1\" class=\"dataframe\">\n",
       "  <thead>\n",
       "    <tr style=\"text-align: right;\">\n",
       "      <th></th>\n",
       "      <th>p-value</th>\n",
       "    </tr>\n",
       "  </thead>\n",
       "  <tbody>\n",
       "    <tr>\n",
       "      <th>D'Agostino-Pearson</th>\n",
       "      <td>5.063042e-04</td>\n",
       "    </tr>\n",
       "    <tr>\n",
       "      <th>Kolmogorov-Smirnov</th>\n",
       "      <td>4.137810e-22</td>\n",
       "    </tr>\n",
       "    <tr>\n",
       "      <th>Chi^2</th>\n",
       "      <td>1.000000e+00</td>\n",
       "    </tr>\n",
       "    <tr>\n",
       "      <th>Shapiro-Wilk</th>\n",
       "      <td>2.547705e-03</td>\n",
       "    </tr>\n",
       "    <tr>\n",
       "      <th>Kolmogorov-Smirnov-jednorodny</th>\n",
       "      <td>1.933326e-188</td>\n",
       "    </tr>\n",
       "  </tbody>\n",
       "</table>\n",
       "</div>"
      ],
      "text/plain": [
       "                                     p-value\n",
       "D'Agostino-Pearson              5.063042e-04\n",
       "Kolmogorov-Smirnov              4.137810e-22\n",
       "Chi^2                           1.000000e+00\n",
       "Shapiro-Wilk                    2.547705e-03\n",
       "Kolmogorov-Smirnov-jednorodny  1.933326e-188"
      ]
     },
     "execution_count": 70,
     "metadata": {},
     "output_type": "execute_result"
    }
   ],
   "source": [
    "#Tabelka z wartościami p-value dla wygenerowanego rozkładu\n",
    "df"
   ]
  },
  {
   "cell_type": "code",
   "execution_count": 71,
   "metadata": {},
   "outputs": [
    {
     "data": {
      "image/png": "[encoded data removed]",
      "text/plain": [
       "<Figure size 504x1080 with 1 Axes>"
      ]
     },
     "metadata": {
      "needs_background": "light"
     },
     "output_type": "display_data"
    },
    {
     "data": {
      "image/png": "[encoded data removed]",
      "text/plain": [
       "<Figure size 432x288 with 2 Axes>"
      ]
     },
     "metadata": {
      "needs_background": "light"
     },
     "output_type": "display_data"
    },
    {
     "data": {
      "image/png": "[encoded data removed]",
      "text/plain": [
       "<Figure size 432x288 with 1 Axes>"
      ]
     },
     "metadata": {
      "needs_background": "light"
     },
     "output_type": "display_data"
    },
    {
     "data": {
      "text/plain": [
       "<Figure size 432x288 with 0 Axes>"
      ]
     },
     "metadata": {},
     "output_type": "display_data"
    }
   ],
   "source": [
    "#Rysowanie wykresów\n",
    "#dla rozkładu Boxa-Mullera używamy x[0] albo x[1]\n",
    "wykresy(x)"
   ]
  },
  {
   "cell_type": "code",
   "execution_count": null,
   "metadata": {},
   "outputs": [],
   "source": []
  }
 ],
 "metadata": {
  "kernelspec": {
   "display_name": "Python 3",
   "language": "python",
   "name": "python3"
  },
  "language_info": {
   "codemirror_mode": {
    "name": "ipython",
    "version": 3
   },
   "file_extension": ".py",
   "mimetype": "text/x-python",
   "name": "python",
   "nbconvert_exporter": "python",
   "pygments_lexer": "ipython3",
   "version": "3.6.8"
  },
  "toc": {
   "base_numbering": 1,
   "nav_menu": {},
   "number_sections": true,
   "sideBar": true,
   "skip_h1_title": false,
   "title_cell": "Table of Contents",
   "title_sidebar": "Contents",
   "toc_cell": false,
   "toc_position": {},
   "toc_section_display": true,
   "toc_window_display": false
  }
 },
 "nbformat": 4,
 "nbformat_minor": 2
}
